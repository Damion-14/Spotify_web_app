{
 "cells": [
  {
   "cell_type": "code",
   "execution_count": 1,
   "id": "3f2e79ca-301f-4790-9606-2ee328065fdd",
   "metadata": {},
   "outputs": [
    {
     "name": "stdout",
     "output_type": "stream",
     "text": [
      "Savin' Me\n",
      "The Red\n",
      "Rap Niggas\n",
      "Wasteland\n",
      "Genesis - Slowed\n",
      "The Middle\n",
      "If Everyone Cared\n",
      "Sorry 4 What? // LV BELT\n",
      "What I've Done\n",
      "K-POP\n",
      "-------------------------------\n",
      "rockhardt\n",
      "Rap\n",
      "Main Character \n",
      "2000s 🗿\n",
      "Songs I can listen to and not feel embarrassed \n",
      "Enielso + Damion\n",
      "Spring break 23\n",
      "Home\n",
      "Fashionable \n",
      "Your Top Songs 2022\n",
      "-------------------------------\n",
      "ORANGE SODA   5FkoSXiJPKTNyYgALRJFhD\n",
      "Story Time Drive   1svoLxpaXLq4vHMdSBwAQR\n",
      "Hellcat Kenny (feat. Lil Uzi Vert)   5nYygW7bTgPOhckh3uDR9L\n",
      "Took Her To The O   7fEoXCZTZFosUFvFQg1BmW\n",
      "Ransom (feat. Lil Uzi Vert)   1CaOUy0DDaVrxqzDltzLnk\n",
      "Grow Up   1io9WbmyDnhLrn35Nk7GfC\n",
      "DOGTOOTH   6OfOzTitafSnsaunQLuNFw\n",
      "Overdue (with Travis Scott)   6LyAwkJsHlW7RQ8S1cYAtM\n",
      "A$AP Ferg   4EbULzyWMuFx94aoIY1MlJ\n",
      "Pose (feat. Megan Thee Stallion & Lil Uzi Vert)   2Wkaen7Ib2eKIMiDT8ncHM\n",
      "420 in London   1zDwQIp3BgbH9dSmYtPBDH\n",
      "Too Hotty   3hWUIMNBwLNug1O8o2PPRW\n",
      "Shots   6eSU1exzDvBEXmBRxspeh5\n",
      "I Don’t Wanna Break Up   7JwmlNz8ic9ATnLn7DyAKx\n",
      "Only   4MRT0dDbhqFKl67WzhUbSw\n",
      "fukumean   4rXLjWdF2ZZpXCVTfWcshS\n",
      "THANK GOD   1PH2MDbcBAU094DlgTIND1\n",
      "Never Bend (feat. Lil Uzi Vert) - Remix   4MBeJBusVa2YvvfKftEfw8\n",
      "21   3JKgcAa7r07ocVWcV8bS0H\n",
      "HITTIN MY SHOULDER   5yA56fi6FgOPPj7oKFssPA\n"
     ]
    }
   ],
   "source": [
    "import spotipy\n",
    "from spotipy.oauth2 import SpotifyOAuth\n",
    "import spotipy.exceptions as spexceptions\n",
    "\n",
    "# Replace these with your own credentials from the Spotify Developer Dashboard\n",
    "client_id = \"779617d6c75e425992d9aad1336fc8e4\"\n",
    "client_secret = \"a9b25d041321424b8b9ddbbb804ab80e\"\n",
    "redirect_uri = \"http://localhost:8080/\"  # This should match the redirect URI set in your Spotify app\n",
    "\n",
    "sp = spotipy.Spotify(auth_manager=SpotifyOAuth(client_id=client_id,\n",
    "                                               client_secret=client_secret,\n",
    "                                               redirect_uri=redirect_uri,\n",
    "                                               scope=[\"user-library-read\", \"playlist-read-private\", \"user-top-read\"]))\n",
    "\n",
    "try:\n",
    "    # Example: Get the user's top tracks\n",
    "    top_tracks = sp.current_user_top_tracks(limit=10, time_range=\"medium_term\")\n",
    "    user_playlists = sp.current_user_playlists(limit=10)\n",
    "    reccomended_tracks = sp.recommendations(seed_artists=['4O15NlyKLIASxsJ0PrXPfz'])\n",
    "    #print(top_tracks)\n",
    "except spexceptions.SpotifyException as e:\n",
    "    print(\"Error:\", e)\n",
    "\n",
    "def print_songs(data):\n",
    "    for item in data['items']:\n",
    "        name = item['name']\n",
    "        print(name)\n",
    "\n",
    "# Call the function with the Spotify API response data\n",
    "print_songs(top_tracks)\n",
    "print('-------------------------------')\n",
    "print_songs(user_playlists)\n",
    "print('-------------------------------')\n",
    "for item in reccomended_tracks['tracks']:\n",
    "    print(item['name'], ' ', item['id'])"
   ]
  },
  {
   "cell_type": "code",
   "execution_count": null,
   "id": "70dc5233-a6fa-4cfd-ab53-cbe644a61780",
   "metadata": {},
   "outputs": [],
   "source": []
  }
 ],
 "metadata": {
  "kernelspec": {
   "display_name": "Python 3 (ipykernel)",
   "language": "python",
   "name": "python3"
  },
  "language_info": {
   "codemirror_mode": {
    "name": "ipython",
    "version": 3
   },
   "file_extension": ".py",
   "mimetype": "text/x-python",
   "name": "python",
   "nbconvert_exporter": "python",
   "pygments_lexer": "ipython3",
   "version": "3.10.12"
  }
 },
 "nbformat": 4,
 "nbformat_minor": 5
}
