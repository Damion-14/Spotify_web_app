{
 "cells": [
  {
   "cell_type": "code",
   "execution_count": 1,
   "id": "770ac752-bd31-4b3a-bf13-89945c6bc164",
   "metadata": {},
   "outputs": [],
   "source": [
    "from spotipy_class import UserSpotify"
   ]
  },
  {
   "cell_type": "code",
   "execution_count": 2,
   "id": "a72189fc-e551-4e0c-9b28-19150b5c4583",
   "metadata": {},
   "outputs": [],
   "source": [
    "\n",
    "obj = UserSpotify(client_id, client_secret)"
   ]
  },
  {
   "cell_type": "code",
   "execution_count": 3,
   "id": "1000b2d0-e93a-465c-92bf-6cb04c9bd8fd",
   "metadata": {},
   "outputs": [
    {
     "name": "stdout",
     "output_type": "stream",
     "text": [
      "User Not Playing Music\n"
     ]
    }
   ],
   "source": [
    "obj.get_queue()"
   ]
  },
  {
   "cell_type": "code",
   "execution_count": 4,
   "id": "8aff5942-77ed-4585-8c5f-dfac688b3155",
   "metadata": {},
   "outputs": [],
   "source": [
    "obj.currently_playing"
   ]
  },
  {
   "cell_type": "code",
   "execution_count": 5,
   "id": "6e41f1e4-de40-403f-a265-b4985efc85ab",
   "metadata": {},
   "outputs": [],
   "source": [
    "obj.queue"
   ]
  },
  {
   "cell_type": "code",
   "execution_count": 6,
   "id": "6e6e20ae-a378-4a0c-ba6b-8b0a782c9b57",
   "metadata": {},
   "outputs": [
    {
     "data": {
      "text/plain": [
       "[['Lil Uzi Songs 2', '71l6FpBSTGneu9x8YptO0x'],\n",
       " ['Lil Uzi Songs ', '0k7EpGcoToxGNtDfUmhBUt'],\n",
       " ['rockhardt', '7lwFt0sYA0uEDSKShqd5tA'],\n",
       " ['Rap', '7pJoLKjTUx3dxp7IqsTbTo'],\n",
       " ['Main Character ', '4SCRuEFaQPeepts2dLaC0g'],\n",
       " ['2000s 🗿', '0U1N5lu6yyt4QQOgkDbyrG'],\n",
       " ['Songs I can listen to and not feel embarrassed ', '6jTijWV9xyaPDmWZh4ZUlZ'],\n",
       " ['Enielso + Damion', '37i9dQZF1EJC5G4ZZ86d2a'],\n",
       " ['Spring break 23', '5eTF76HgcRZmYHaUt92tey'],\n",
       " ['Home', '7reV62BqcXfudgXchQHh4V'],\n",
       " ['Fashionable ', '7BRNy6AFjfpFACFxjLUTdc'],\n",
       " ['Your Top Songs 2022', '37i9dQZF1F0sijgNaJdgit'],\n",
       " ['(ɔ◔‿◔)ɔ ♥', '7xZ8QhectbFhXAIjoO5roU'],\n",
       " ['Elated Vibes ', '0eMnIbJ9FkXWbbsDYuoSpM'],\n",
       " ['Pepper  ', '5lL0KUSwFjppldB1A7fxRl'],\n",
       " ['Be there in 5', '4WIVJjCV0Q1y9I848XprJe'],\n",
       " ['Eden of music ', '38LorTBV9wY6Ve2WTQdAQH'],\n",
       " ['Juice WRLD Unreleased Leaks (999🧡LLJW', '6bDsjnQfvLLp2kAC92JS23'],\n",
       " ['Roses', '73m1Bm7tcpewBWvj68UtH3'],\n",
       " ['DEVIL IN A NEW DRESS', '2Tdjwb2jxxHvsvejdAwEyP'],\n",
       " ['Up', '0mf9nEpZukKlFu1mzdgdQC'],\n",
       " ['🥶Rap/Trap🖤', '52jUhsLfmbSWQN93KzkwkR'],\n",
       " ['2022', '6QaQKM0UW3m86d9w4uoxv0'],\n",
       " ['Needed', '03dSbd4qjl9dCEp7O9JLOK'],\n",
       " ['🐼', '61knhz0geIIoCegi1OHx1w'],\n",
       " ['christmas ', '440HynJo2TT2FkVuBU4ljv'],\n",
       " ['reeseradler + Damion', '37i9dQZF1EJvzkQdxbcgKg'],\n",
       " ['Fly Me To The Moon', '4Oh0KZ3eIKsfcFrlp0cCJH'],\n",
       " ['Gymshark or Gym-Rat?', '0sn1AdrqHhNslKp5gi8RFg'],\n",
       " ['2016', '6mFGJUkbb2Jztw7r5lTIB7'],\n",
       " ['Sicko mode', '1PbaMmbS5Nxmjf7UEBAFPd'],\n",
       " ['OUT OF THIS WORLD', '5GLeArdiEZGbrlxLKqKmhu'],\n",
       " [' Sad', '3bkVMJkDwbrG2smnbrtGdw'],\n",
       " ['You wanna bench 225??', '511Xiq1DxzQ8Y55U9uuCwr'],\n",
       " ['Classic Rock🎸', '3lhPnIA8KYTARGp053BdH3'],\n",
       " ['☁️', '5X0UQr9ACAyS4j8jQmW8tM'],\n",
       " ['Head Banging Metal', '72eHwhlxbHH7iZ3SQQwvZZ'],\n",
       " ['Dreese 4L<3', '5qmQe7xPT094b4YRgyc2pG'],\n",
       " ['🚬Cowboy Killer', '1VuCc35SKWu6hEpl5HTMPG'],\n",
       " ['Idek', '2GtYRwYj6vITgnMN0Sa6GP'],\n",
       " ['Straight vibin’', '7crku68CEUVpQJhm5KrS0E'],\n",
       " ['Country', '7iZxJ34CCQVA8nOMUIShO9'],\n",
       " ['Vibes', '3ENVX7L9anbMh5iXDlnYDm'],\n",
       " ['Wrapping paper ', '7IMGF0uFqyc0SFwa9PrqPQ']]"
      ]
     },
     "execution_count": 6,
     "metadata": {},
     "output_type": "execute_result"
    }
   ],
   "source": [
    "obj.get_playlists()"
   ]
  },
  {
   "cell_type": "code",
   "execution_count": 11,
   "id": "d1f3cd4e-bb23-459b-b17d-6ea2554809ce",
   "metadata": {},
   "outputs": [],
   "source": [
    "x = obj.get_playlists()\n",
    "x = x[-1][0]\n",
    "#obj.get_songs_in_playlist(obj.get_playlist_id_from_name(x))"
   ]
  },
  {
   "cell_type": "code",
   "execution_count": 13,
   "id": "49c0a498-e21d-4fc1-8391-17cc8415e313",
   "metadata": {},
   "outputs": [
    {
     "data": {
      "text/plain": [
       "[['Search & Rescue', 'Drake', '7aRCf5cLOFN1U7kvtChY1G'],\n",
       " ['Search & Rescue', 'Drake', '7INo35yvWnVY5PcEUlg1d4'],\n",
       " ['The Search', 'NF', '3oLe5ZILASG8vU5dxIMfLY'],\n",
       " ['Searchin', 'Sonder', '2WcPWXOjoDKDVouyyWV8Eq'],\n",
       " ['Search and Destroy [2023 Remaster] - Iggy Mix',\n",
       "  'The Stooges',\n",
       "  '00sydAz6PeOxYzwG1dRIPi'],\n",
       " ['Searching For Cover', 'Peter Graham', '61DyLRwrghWPY9o93BoTNw'],\n",
       " ['Searching For a Reason', 'Dax', '2vOWQuPEYUCp7zKMeIKDJb'],\n",
       " ['Search', 'Scarlet House', '2Lh85dPaWU5G3NsCCE2PO8'],\n",
       " ['The Search', 'ETSY, SHAMMY', '0CSc4CDvUD8G57ziQpfDuN'],\n",
       " ['Theme from \"The Search for Everything\"',\n",
       "  'John Mayer',\n",
       "  '1G4s7WkhgmdQvYaGCHjw1G']]"
      ]
     },
     "execution_count": 13,
     "metadata": {},
     "output_type": "execute_result"
    }
   ],
   "source": [
    "obj.get_search_results('search')"
   ]
  },
  {
   "cell_type": "code",
   "execution_count": null,
   "id": "e8446833-0b08-4dfd-a7ad-e234a772b85c",
   "metadata": {},
   "outputs": [],
   "source": [
    "\n"
   ]
  },
  {
   "cell_type": "code",
   "execution_count": null,
   "id": "55a081ae-0148-4037-b92e-ac856abd451f",
   "metadata": {},
   "outputs": [],
   "source": []
  }
 ],
 "metadata": {
  "kernelspec": {
   "display_name": "Python 3 (ipykernel)",
   "language": "python",
   "name": "python3"
  },
  "language_info": {
   "codemirror_mode": {
    "name": "ipython",
    "version": 3
   },
   "file_extension": ".py",
   "mimetype": "text/x-python",
   "name": "python",
   "nbconvert_exporter": "python",
   "pygments_lexer": "ipython3",
   "version": "3.10.12"
  }
 },
 "nbformat": 4,
 "nbformat_minor": 5
}
