{
 "cells": [
  {
   "cell_type": "code",
   "execution_count": 1,
   "id": "3f2e79ca-301f-4790-9606-2ee328065fdd",
   "metadata": {},
   "outputs": [
    {
     "name": "stdin",
     "output_type": "stream",
     "text": [
      "What is your spotify client id?  779617d6c75e425992d9aad1336fc8e4\n",
      "What is your secret key?  a9b25d041321424b8b9ddbbb804ab80e\n"
     ]
    }
   ],
   "source": [
    "import spotipy\n",
    "from spotipy.oauth2 import SpotifyOAuth\n",
    "import spotipy.exceptions as spexceptions\n",
    "\n",
    "# Replace these with your own credentials from the Spotify Developer Dashboard\n",
    "client_id = input('What is your spotify client id? ')\n",
    "client_secret = input('What is your secret key? ') #create_own\n",
    "redirect_uri = \"http://localhost:8080/\"  # This should match the redirect URI set in your Spotify app\n",
    "scopes = ['playlist-modify-public', 'playlist-modify-private']  # Add necessary scopes here\n",
    "\n",
    "\n",
    "sp = spotipy.Spotify(auth_manager=SpotifyOAuth(client_id=client_id,\n",
    "                                               client_secret=client_secret,\n",
    "                                               redirect_uri=redirect_uri,\n",
    "                                               scope=scopes))"
   ]
  },
  {
   "cell_type": "code",
   "execution_count": 5,
   "id": "e93514f1-a7d8-4365-9c5a-9a710ec90155",
   "metadata": {},
   "outputs": [],
   "source": [
    "try:\n",
    "    # Example: Get the user's top tracks\n",
    "    #top_tracks = sp.current_user_top_tracks(limit=10, time_range=\"medium_term\")\n",
    "    user_playlists = sp.current_user_playlists(limit=10)\n",
    "    reccomended_tracks = sp.recommendations(seed_artists=['4O15NlyKLIASxsJ0PrXPfz'])\n",
    "    categories = sp.categories()\n",
    "    category_playlists = sp.category_playlists('0JQ5DAqbMKFQ00XGBls6ym')\n",
    "    \n",
    "except spexceptions.SpotifyException as e:\n",
    "    print(\"Error:\", e)\n",
    "\n",
    "def print_songs(data):\n",
    "    for item in data['items']:\n",
    "        name = item['name']\n",
    "        #track = sp.track(item['id'])\n",
    "        print(name)\n",
    "        # print()\n",
    "def get_recomendations(seed_artists, seed_genres, seed_tracks):\n",
    "    pass\n",
    "\n",
    "\n"
   ]
  },
  {
   "cell_type": "code",
   "execution_count": 6,
   "id": "70dc5233-a6fa-4cfd-ab53-cbe644a61780",
   "metadata": {},
   "outputs": [
    {
     "name": "stdout",
     "output_type": "stream",
     "text": [
      "-------------------------------\n",
      "rockhardt\n",
      "Rap\n",
      "Main Character \n",
      "2000s 🗿\n",
      "Songs I can listen to and not feel embarrassed \n",
      "Spring break 23\n",
      "Home\n",
      "Fashionable \n",
      "Elated Vibes \n",
      "Eden of music \n",
      "-------------------------------\n",
      "nuts   4k3xDpAdBuM17mNNHhOZkK\n",
      "Multiple Flows (with Lil Uzi Vert)   33NAQaVm6TRv1phc0fPsfb\n",
      "Paris to Tokyo   39d9CQbAB6AMLCxcJtSc0U\n",
      "i need u   2gSPHSdf0vrk2Psxmn8sUn\n",
      "I Don’t Wanna Break Up   7JwmlNz8ic9ATnLn7DyAKx\n",
      "Heartless - Vapor Wave Remix   13s4YFYQEnHLJEcdZvLuol\n",
      "Get Silly   0aIJ1annt9xEheg96y0YWO\n",
      "No morë talk   7qPiAhk71D2RqLRtnjDL76\n",
      "Marvelous Day (feat. Lil Uzi Vert & Gunna)   4kfEy7h6bWBS5OaDpccTap\n",
      "Bandz (Bye Bye Birdie) (feat. Lil Uzi Vert)   6V3BWc31TBcXYFaNsfL7M2\n",
      "Shotta Flow (feat. Blueface) [Remix]   5BJMeoCXXgbRAWfp6fTulr\n",
      "P power (feat. Drake)   0lEjxUUlKqjqXrVlIHFduD\n",
      "spend the money (feat. Lil Uzi Vert)   67LTOfKMgsCZLvI2AiET1W\n",
      "Blessing   6DswwzQlABrNoqjNydtvuX\n",
      "SICKO MODE   2xLMifQCjDGFmkHkpNLD9h\n",
      "LOVE. FEAT. ZACARI.   6PGoSes0D9eUDeeAafB2As\n",
      "REEL IT IN   5qHirGR7M9tdm6C17DlzSY\n",
      "Party Girl (Remix)   1eIsyfDHoEbemSnQFsgyAv\n",
      "Turban   6Rxs3rW1SNNBZRrRckwU81\n",
      "Watch (feat. Lil Uzi Vert & Kanye West)   3DoBTwfr8yi2LN08SBpFkN\n",
      "-------------------------------\n",
      "Top Lists   toplists\n",
      "Hip-Hop   0JQ5DAqbMKFQ00XGBls6ym\n",
      "Pop   0JQ5DAqbMKFEC4WFtoNRpw\n",
      "Country   0JQ5DAqbMKFKLfwjuJMoNC\n",
      "Latin   0JQ5DAqbMKFxXaXKP7zcDp\n",
      "Rock   0JQ5DAqbMKFDXXwE9BDJAr\n",
      "Summer   0JQ5DAqbMKFLVaM30PMBm4\n",
      "Workout   0JQ5DAqbMKFAXlCG6QvYQ4\n",
      "R&B   0JQ5DAqbMKFEZPnFQSFB1T\n",
      "Dance/Electronic   0JQ5DAqbMKFHOzuVTgTizF\n",
      "Netflix   0JQ5DAqbMKFEOEBCABAxo9\n",
      "Indie   0JQ5DAqbMKFCWjUTdzaG0e\n",
      "Mood   0JQ5DAqbMKFzHmL4tf05da\n",
      "Sleep   0JQ5DAqbMKFCuoRTxhYWow\n",
      "Christian & Gospel   0JQ5DAqbMKFy0OenPG51Av\n",
      "Regional Mexican   0JQ5DAqbMKFDTEtSaS4R92\n",
      "Wellness   0JQ5DAqbMKFLb2EqgLtpjC\n",
      "Chill   0JQ5DAqbMKFFzDl7qN9Apr\n",
      "EQUAL   0JQ5DAqbMKFPw634sFwguI\n",
      "Gaming   0JQ5DAqbMKFCfObibaOZbv\n",
      "-------------------------------\n",
      "RapCaviar   37i9dQZF1DX0XUsuxWHRQd\n",
      "Feelin' Myself   37i9dQZF1DX6GwdWRQMQpq\n",
      "Most Necessary   37i9dQZF1DX2RxBh64BHjQ\n",
      "Global Hip-Hop   37i9dQZF1DX2sQHbtx0sdt\n",
      "Most Streamed Rap Songs on Spotify   37i9dQZF1DX58gKmCfKS2T\n",
      "Locked In   37i9dQZF1DWTl4y3vgJOXW\n",
      "Greatest Hip-Hop Beats of All Time   37i9dQZF1DX5qmTk3PVatJ\n",
      "Get Turnt   37i9dQZF1DWY4xHQp97fN6\n",
      "Gold School   37i9dQZF1DWVA1Gq4XHa6U\n",
      "Now Playing...   37i9dQZF1DX8uG7blV3kzV\n",
      "Boo Thang <3   37i9dQZF1DX0dzzKV3SZR0\n",
      "New Joints   37i9dQZF1DX4SrOBCjlfVi\n",
      "Taste   37i9dQZF1DWSUur0QPPsOn\n",
      "This is Frequency   37i9dQZF1DWVgsJtp58d1t\n",
      "I Love My 2010s Hip-Hop   37i9dQZF1DX97h7ftpNSYT\n",
      "Signed XOXO   37i9dQZF1DX2A29LI7xHn1\n",
      "State of Mind   37i9dQZF1DX1YPTAhwehsC\n",
      "Street Soul   37i9dQZF1DWTplaZ1W7ARf\n",
      "Out The Mud   37i9dQZF1DXaxIqwkEGFEh\n"
     ]
    }
   ],
   "source": [
    "# Call the function with the Spotify API response data\n",
    "#print_songs(top_tracks)\n",
    "print('-------------------------------')\n",
    "print_songs(user_playlists)\n",
    "print('-------------------------------')\n",
    "for item in reccomended_tracks['tracks']:\n",
    "    print(item['name'], ' ', item['id'])\n",
    "    \n",
    "print('-------------------------------')\n",
    "for item in categories['categories']['items']:\n",
    "    print(item['name'], ' ', item['id'])\n",
    "\n",
    "print('-------------------------------')\n",
    "for item in category_playlists['playlists']['items']:\n",
    "    if item != None:\n",
    "        print(item['name'], ' ', item['id'])"
   ]
  },
  {
   "cell_type": "code",
   "execution_count": 29,
   "id": "b70e3981-83b7-4673-8c74-64ddbfc41f4d",
   "metadata": {},
   "outputs": [
    {
     "name": "stdin",
     "output_type": "stream",
     "text": [
      "What is your UserID? (It can be found in your settings under account/Username) 312uzcwcsmjnbph47h3byr3j3arq\n",
      "What would you like to name the playlist?  Lil Uzi Songs 2\n"
     ]
    },
    {
     "name": "stdout",
     "output_type": "stream",
     "text": [
      "Playlist created successfully!\n"
     ]
    }
   ],
   "source": [
    "def add_songs(user, playlist_id, seed_artists=[], seed_genres=[], seed_tracks=[], number_of_songs_to_add=30):\n",
    "    tracks_to_add = []\n",
    "    while len(tracks_to_add) < number_of_songs_to_add:\n",
    "        recommended_tracks = sp.recommendations(seed_artists=seed_artists)\n",
    "        for item in recommended_tracks['tracks']:\n",
    "            if item['id'] not in tracks_to_add:\n",
    "                tracks_to_add.append(item['id'])\n",
    "    \n",
    "    sp.user_playlist_add_tracks(user, playlist_id, tracks_to_add)\n",
    "    \n",
    "def new_playlist(add_songs_flag=False):\n",
    "    userID = input('What is your UserID? (It can be found in your settings under account/Username)')\n",
    "    user_playlists = sp.current_user_playlists()\n",
    "    user_playlists = [item['name'] for item in user_playlists['items']]\n",
    "    while True:\n",
    "        name = input('What would you like to name the playlist? ')\n",
    "        if name not in user_playlists:\n",
    "            break\n",
    "        else:\n",
    "            print(\"A playlist with that name already exists. Please choose a different name.\")\n",
    "    try:\n",
    "        playlist = sp.user_playlist_create(userID, name, description='I made this playlist with python')\n",
    "        playlist_id = playlist['id']\n",
    "        if add_songs_flag:\n",
    "            add_songs(userID, playlist_id, seed_artists=['4O15NlyKLIASxsJ0PrXPfz'])\n",
    "        print('Playlist created successfully!')\n",
    "    except Exception as e:\n",
    "        print('Error Encountered: ', e)\n",
    "\n",
    "new_playlist(add_songs_flag=True)\n"
   ]
  },
  {
   "cell_type": "code",
   "execution_count": 24,
   "id": "c6989a82-3f35-4c6a-9ba0-063cfcd768d4",
   "metadata": {},
   "outputs": [
    {
     "ename": "NameError",
     "evalue": "name 'playlist' is not defined",
     "output_type": "error",
     "traceback": [
      "\u001b[0;31m---------------------------------------------------------------------------\u001b[0m",
      "\u001b[0;31mNameError\u001b[0m                                 Traceback (most recent call last)",
      "Cell \u001b[0;32mIn[24], line 1\u001b[0m\n\u001b[0;32m----> 1\u001b[0m \u001b[43mplaylist\u001b[49m\n",
      "\u001b[0;31mNameError\u001b[0m: name 'playlist' is not defined"
     ]
    }
   ],
   "source": [
    "playlist\n"
   ]
  },
  {
   "cell_type": "code",
   "execution_count": null,
   "id": "6722a96b-a643-4ba9-a1d2-19d81c385b9b",
   "metadata": {},
   "outputs": [],
   "source": []
  }
 ],
 "metadata": {
  "kernelspec": {
   "display_name": "Python 3 (ipykernel)",
   "language": "python",
   "name": "python3"
  },
  "language_info": {
   "codemirror_mode": {
    "name": "ipython",
    "version": 3
   },
   "file_extension": ".py",
   "mimetype": "text/x-python",
   "name": "python",
   "nbconvert_exporter": "python",
   "pygments_lexer": "ipython3",
   "version": "3.10.12"
  }
 },
 "nbformat": 4,
 "nbformat_minor": 5
}
