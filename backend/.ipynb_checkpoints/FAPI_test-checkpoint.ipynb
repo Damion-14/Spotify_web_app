{
 "cells": [
  {
   "cell_type": "code",
   "execution_count": 105,
   "id": "ffbb0ec4-d37e-4b0d-9834-6745308629cd",
   "metadata": {},
   "outputs": [
    {
     "name": "stdout",
     "output_type": "stream",
     "text": [
      "{'message': 'Logged in'}\n"
     ]
    }
   ],
   "source": [
    "import requests\n",
    "\n",
    "url = \"http://192.168.1.180:8000/login\"\n",
    "\n",
    "params = {\n",
    "    \"client_id\": \"779617d6c75e425992d9aad1336fc8e4\",\n",
    "    \"client_secret\": \"a9b25d041321424b8b9ddbbb804ab80e\",\n",
    "    \"username\": \"Damion\"\n",
    "}\n",
    "\n",
    "response = requests.post(url, params=params)\n",
    "print(response.json())\n"
   ]
  },
  {
   "cell_type": "code",
   "execution_count": 102,
   "id": "9cd06dc4-ea88-4b44-80b7-294e493e33a2",
   "metadata": {},
   "outputs": [
    {
     "data": {
      "text/plain": [
       "{'currently_playing': ['Realist In It (feat. Gucci Mane & Offset)',\n",
       "  '2WqTKOAUmv7hz9ZzGnXHrY',\n",
       "  'https://i.scdn.co/image/ab67616d00001e027cb0c4f7761f6dd66aaca065'],\n",
       " 'queue': [['Dope Love',\n",
       "   '2GvbEi474ERilha4hoMPre',\n",
       "   'https://i.scdn.co/image/ab67616d00004851baed8ce058ee8bae7efde30b'],\n",
       "  ['Mr. Glock',\n",
       "   '1ipSpQfzBbhPFhYm6tfVIz',\n",
       "   'https://i.scdn.co/image/ab67616d0000485177d6678d66fd48ecfed2cfe8'],\n",
       "  ['CONFETTI! (WITH CHOW LEE)',\n",
       "   '6cWXlRYBQ1FtJG2dXzr1WV',\n",
       "   'https://i.scdn.co/image/ab67616d000048510af5917e953f2e305ac66196'],\n",
       "  ['Gunsmoke Town',\n",
       "   '4286sbHO5syVcp8BrFO2dI',\n",
       "   'https://i.scdn.co/image/ab67616d00004851960130f904d32a620e437814'],\n",
       "  ['Banking On Me',\n",
       "   '7Fege3yv4dvehB3NdRBGwI',\n",
       "   'https://i.scdn.co/image/ab67616d000048518538ab9fb154445316929c23'],\n",
       "  ['IG',\n",
       "   '0jvl8JNF7NOUnmYcRD9RSm',\n",
       "   'https://i.scdn.co/image/ab67616d000048516352aadd97d58895be62e816'],\n",
       "  ['SHAKE SUMN',\n",
       "   '3FhZPYvMGSjFc6boVYKlCv',\n",
       "   'https://i.scdn.co/image/ab67616d00004851e9a8758303b7d6d44fdb6486'],\n",
       "  ['durag activity (with Travis Scott)',\n",
       "   '6c5wQFfJApRMooKE7UQnlH',\n",
       "   'https://i.scdn.co/image/ab67616d000048511bfa23b13d0504fb90c37b39'],\n",
       "  ['HOTEL LOBBY (Unc & Phew)',\n",
       "   '4vVjPTApwXZwB2H3mBq3ml',\n",
       "   'https://i.scdn.co/image/ab67616d00004851ffe5b62233340cb6d453fc2f'],\n",
       "  ['HYAENA',\n",
       "   '0hL9gOw6XBWsygEUcVjxEc',\n",
       "   'https://i.scdn.co/image/ab67616d00004851881d8d8378cd01099babcd44'],\n",
       "  ['In The Air',\n",
       "   '2eJBpNlTTPatjec4SDQvuo',\n",
       "   'https://i.scdn.co/image/ab67616d0000485149d141068880d20deb81347c'],\n",
       "  ['Shoe Box',\n",
       "   '0bc1ZvIhIJC3iWu3qOC9s2',\n",
       "   'https://i.scdn.co/image/ab67616d00004851ed13634a0ef70ba6e6bf627d'],\n",
       "  ['Beat the Odds Pt 2 (feat. Polo G)',\n",
       "   '1vHzUmqpA2tgO1OGtBuItX',\n",
       "   'https://i.scdn.co/image/ab67616d00004851eeae1b8f73ed82301ba1c525'],\n",
       "  ['The Hillbillies',\n",
       "   '1h6w4POXM2LfG4ZD4xUfZQ',\n",
       "   'https://i.scdn.co/image/ab67616d00004851c4441140f4483bb1c18fe7ae'],\n",
       "  ['Broke In A Minute',\n",
       "   '4xqIYGwwZTEem9U8A42SPF',\n",
       "   'https://i.scdn.co/image/ab67616d0000485153af8d1a7654351c6a03b5fe'],\n",
       "  ['Uncle M',\n",
       "   '612Gkl43RQdwlzKGPgkudm',\n",
       "   'https://i.scdn.co/image/ab67616d0000485137895eee206eabf2682e3064'],\n",
       "  ['THOR!',\n",
       "   '2R0GMc87K9od0d1ZDGskZu',\n",
       "   'https://i.scdn.co/image/ab67616d000048510af5917e953f2e305ac66196'],\n",
       "  ['N95',\n",
       "   '0fX4oNGBWO3dSGUZcVdVV2',\n",
       "   'https://i.scdn.co/image/ab67616d000048512e02117d76426a08ac7c174f'],\n",
       "  ['Private Jet',\n",
       "   '448fc6aM6KF95yK0IdnIQQ',\n",
       "   'https://i.scdn.co/image/ab67616d000048511b58d37c46c522258b8af8e5'],\n",
       "  ['Alright',\n",
       "   '3iVcZ5G6tvkXZkZKlMpIUs',\n",
       "   'https://i.scdn.co/image/ab67616d00004851cdb645498cd3d8a2db4d05e1']]}"
      ]
     },
     "execution_count": 102,
     "metadata": {},
     "output_type": "execute_result"
    }
   ],
   "source": [
    "import requests\n",
    "\n",
    "url = \"http://192.168.1.180:8000/get_queue\"\n",
    "\n",
    "params = {\n",
    "    \"client_id\": \"779617d6c75e425992d9aad1336fc8e4\"\n",
    "}\n",
    "\n",
    "response = requests.post(url, params=params)\n",
    "x = response.json()\n",
    "x"
   ]
  },
  {
   "cell_type": "code",
   "execution_count": 113,
   "id": "877224ea-f11f-43e9-a73f-d20668ae5091",
   "metadata": {},
   "outputs": [
    {
     "name": "stdout",
     "output_type": "stream",
     "text": [
      "<Response [200]>\n",
      "200\n",
      "{'message': {'message': 'Playlist Created Successfully, 30 tracks added to the playlist'}}\n"
     ]
    }
   ],
   "source": [
    "import requests\n",
    "\n",
    "url = \"http://192.168.1.180:8000/new_playlist\"  # Replace with the actual URL of your FastAPI server\n",
    "\n",
    "# Define the payload (data) to send in the POST request\n",
    "params = {\n",
    "    \"client_id\": \"779617d6c75e425992d9aad1336fc8e4\",\n",
    "    \"name\": \"fastapi\",\n",
    "    \"add_songs_flag\": True,\n",
    "    \"seed_artists\": None,\n",
    "    \"seed_genres\": '    ',\n",
    "    \"seed_tracks\": \"4daEMLSZCgZ2Mt7gNm2SRa,  2WqTKOAUmv7hz9ZzGnXHrY\",\n",
    "    \"limit\": 20,\n",
    "    \"number_of_songs_to_add\": 30\n",
    "}\n",
    "\n",
    "response = requests.post(url, params=params)\n",
    "print(response.json())\n"
   ]
  },
  {
   "cell_type": "code",
   "execution_count": null,
   "id": "13b7649d-e249-408f-be2a-fb1f45b30da3",
   "metadata": {},
   "outputs": [],
   "source": []
  },
  {
   "cell_type": "code",
   "execution_count": null,
   "id": "39abda4d-4ea3-413a-8dc9-3fcbabf79043",
   "metadata": {},
   "outputs": [],
   "source": []
  }
 ],
 "metadata": {
  "kernelspec": {
   "display_name": "Python 3 (ipykernel)",
   "language": "python",
   "name": "python3"
  },
  "language_info": {
   "codemirror_mode": {
    "name": "ipython",
    "version": 3
   },
   "file_extension": ".py",
   "mimetype": "text/x-python",
   "name": "python",
   "nbconvert_exporter": "python",
   "pygments_lexer": "ipython3",
   "version": "3.10.12"
  }
 },
 "nbformat": 4,
 "nbformat_minor": 5
}
