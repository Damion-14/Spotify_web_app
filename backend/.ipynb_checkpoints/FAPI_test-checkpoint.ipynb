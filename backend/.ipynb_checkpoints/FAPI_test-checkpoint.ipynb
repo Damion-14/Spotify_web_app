{
 "cells": [
  {
   "cell_type": "code",
   "execution_count": 5,
   "id": "ffbb0ec4-d37e-4b0d-9834-6745308629cd",
   "metadata": {},
   "outputs": [
    {
     "name": "stdout",
     "output_type": "stream",
     "text": [
      "{'message': 'Logged in'}\n"
     ]
    }
   ],
   "source": [
    "import requests\n",
    "\n",
    "url = \"http://192.168.1.124:8000/login\"\n",
    "\n",
    "params = {\n",
    "    \"client_id\": \"93302b3440374f75bd84102271a41701\",\n",
    "    \"client_secret\": \"\",\n",
    "    \"username\": \"Damion\"\n",
    "}\n",
    "\n",
    "response = requests.post(url, params=params)\n",
    "print(response.json())\n"
   ]
  },
  {
   "cell_type": "code",
   "execution_count": 7,
   "id": "9cd06dc4-ea88-4b44-80b7-294e493e33a2",
   "metadata": {},
   "outputs": [
    {
     "data": {
      "text/plain": [
       "{'currently_playing': ['Yeah Kool (feat. Lil Uzi Vert)',\n",
       "  '7Kr4CM8SH2JI8Ecz2quate',\n",
       "  'https://i.scdn.co/image/ab67616d00001e02473b84654b2aee3ce6c350c5'],\n",
       " 'queue': [['Moon Relate',\n",
       "   '4sWGHlZGM1XA7TyWdtBAbA',\n",
       "   'https://i.scdn.co/image/ab67616d00004851dea510881ec1e506485303e4'],\n",
       "  ['DND',\n",
       "   '58GJNfq2m0Qr5nIUCDbXVQ',\n",
       "   'https://i.scdn.co/image/ab67616d00004851339f780dfdbc38558ea0761d'],\n",
       "  ['Routine (feat. Rick Ross & Meek Mill)',\n",
       "   '5MqPHMhLXyZDDPHMGEF6MQ',\n",
       "   'https://i.scdn.co/image/ab67616d0000485180c9e77ba1ff58e73efce760'],\n",
       "  ['Split/Whole Time',\n",
       "   '62hpoPrA3rtfeX1aWONig5',\n",
       "   'https://i.scdn.co/image/ab67616d000048515ee839f6415e0d02fc4f2b49'],\n",
       "  ['Nuketown (feat. Juice WRLD)',\n",
       "   '74lnM5V6ecvoTPV0fvptx9',\n",
       "   'https://i.scdn.co/image/ab67616d00004851e62c8561e3b1bd9ad952ce01'],\n",
       "  ['Emergency (feat. Gunna & Young Thug)',\n",
       "   '6OXoNNVuqee0XMgbf7ZNna',\n",
       "   'https://i.scdn.co/image/ab67616d000048515c85a162a5b91ad89e8afa4c'],\n",
       "  ['Go Legend (& Metro Boomin)',\n",
       "   '3wAI7MIQtTgwcRmwchPZBc',\n",
       "   'https://i.scdn.co/image/ab67616d00004851a921ed2b886e7d154e88d37b'],\n",
       "  ['Plug Walk',\n",
       "   '1ZAyjvIk9YiD76yYy0TEG6',\n",
       "   'https://i.scdn.co/image/ab67616d0000485164353426de6dfe0206f6d1d3'],\n",
       "  ['I Love It (& Lil Pump)',\n",
       "   '4S8d14HvHb70ImctNgVzQQ',\n",
       "   'https://i.scdn.co/image/ab67616d00004851b6d544387b04e1d1a5f7926c'],\n",
       "  ['Bust Down',\n",
       "   '3vWxQ6wOfMr8zH1u7pVFI6',\n",
       "   'https://i.scdn.co/image/ab67616d00004851e991f37dbb44249ac01314f0'],\n",
       "  [\"Coastin' (feat. TK Kravitz)\",\n",
       "   '0WuTiIfF4XEmSmY4xYCOtK',\n",
       "   'https://i.scdn.co/image/ab67616d000048519454cef6c5bc1364e38557a6'],\n",
       "  ['One Day',\n",
       "   '5YDvl8MBTzfLqgEKPE0cXY',\n",
       "   'https://i.scdn.co/image/ab67616d000048518bc8e3dc522b928c001f16e2'],\n",
       "  ['SoHo Freestyle',\n",
       "   '4fs8ivWpMFLziD20LglPmZ',\n",
       "   'https://i.scdn.co/image/ab67616d00004851cd5f8507890b620ac0f19b4d'],\n",
       "  ['Spicy (feat. Fivio Foreign & A$AP Ferg)',\n",
       "   '661wc0CTq5MbppEG6zYP5n',\n",
       "   'https://i.scdn.co/image/ab67616d00004851cfae92bfa188457b4bee0055'],\n",
       "  ['Minnesota',\n",
       "   '4XkOcWt0C2JX1s2RXybosk',\n",
       "   'https://i.scdn.co/image/ab67616d0000485114d1a203158bed18a4ea7375'],\n",
       "  ['Strawberry Peels (feat. Young Thug & Gunna)',\n",
       "   '4lAQfuREAHG8IC0PiiigBt',\n",
       "   'https://i.scdn.co/image/ab67616d00004851dea510881ec1e506485303e4'],\n",
       "  [\"I Don't Like\",\n",
       "   '2ikkgfIIM9kGKZCXzXnTpj',\n",
       "   'https://i.scdn.co/image/ab67616d000048512a8cbe9e04db628271fe9558'],\n",
       "  ['Arya (feat. A$AP Rocky)',\n",
       "   '0Rq6JJwpZ9f1SU6Cfhgjv7',\n",
       "   'https://i.scdn.co/image/ab67616d000048519d27907416752970ff8160da'],\n",
       "  ['Demon Time (Lil Yachty feat. Draft Day)',\n",
       "   '0U4bETGvA2xw24gyTloxIJ',\n",
       "   'https://i.scdn.co/image/ab67616d000048515ee839f6415e0d02fc4f2b49'],\n",
       "  ['Immortal',\n",
       "   '4IO8X9W69dIQe0EC5ALXhq',\n",
       "   'https://i.scdn.co/image/ab67616d00004851555d4944782c87c10ed07eec']]}"
      ]
     },
     "execution_count": 7,
     "metadata": {},
     "output_type": "execute_result"
    }
   ],
   "source": [
    "import requests\n",
    "\n",
    "url = \"http://192.168.1.124:8000/get_queue\"\n",
    "\n",
    "params = {\n",
    "    \"client_id\": \"93302b3440374f75bd84102271a41701\"\n",
    "}\n",
    "\n",
    "response = requests.post(url, params=params)\n",
    "x = response.json()\n",
    "x"
   ]
  },
  {
   "cell_type": "code",
   "execution_count": 113,
   "id": "877224ea-f11f-43e9-a73f-d20668ae5091",
   "metadata": {},
   "outputs": [
    {
     "name": "stdout",
     "output_type": "stream",
     "text": [
      "<Response [200]>\n",
      "200\n",
      "{'message': {'message': 'Playlist Created Successfully, 30 tracks added to the playlist'}}\n"
     ]
    }
   ],
   "source": [
    "import requests\n",
    "\n",
    "url = \"http://192.168.1.124:8000/new_playlist\"  # Replace with the actual URL of your FastAPI server\n",
    "\n",
    "# Define the payload (data) to send in the POST request\n",
    "params = {\n",
    "    \"client_id\": \"93302b3440374f75bd84102271a41701\",\n",
    "    \"name\": \"fastapi\",\n",
    "    \"add_songs_flag\": True,\n",
    "    \"seed_artists\": None,\n",
    "    \"seed_genres\": '    ',\n",
    "    \"seed_tracks\": \"4daEMLSZCgZ2Mt7gNm2SRa,  2WqTKOAUmv7hz9ZzGnXHrY\",\n",
    "    \"limit\": 20,\n",
    "    \"number_of_songs_to_add\": 30\n",
    "}\n",
    "\n",
    "response = requests.post(url, params=params)\n",
    "print(response.json())\n"
   ]
  },
  {
   "cell_type": "code",
   "execution_count": null,
   "id": "13b7649d-e249-408f-be2a-fb1f45b30da3",
   "metadata": {},
   "outputs": [],
   "source": []
  },
  {
   "cell_type": "code",
   "execution_count": null,
   "id": "39abda4d-4ea3-413a-8dc9-3fcbabf79043",
   "metadata": {},
   "outputs": [],
   "source": []
  }
 ],
 "metadata": {
  "kernelspec": {
   "display_name": "Python 3 (ipykernel)",
   "language": "python",
   "name": "python3"
  },
  "language_info": {
   "codemirror_mode": {
    "name": "ipython",
    "version": 3
   },
   "file_extension": ".py",
   "mimetype": "text/x-python",
   "name": "python",
   "nbconvert_exporter": "python",
   "pygments_lexer": "ipython3",
   "version": "3.10.12"
  }
 },
 "nbformat": 4,
 "nbformat_minor": 5
}
