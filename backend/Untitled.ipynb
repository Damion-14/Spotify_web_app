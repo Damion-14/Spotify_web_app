{
 "cells": [
  {
   "cell_type": "code",
   "execution_count": 21,
   "id": "ffbb0ec4-d37e-4b0d-9834-6745308629cd",
   "metadata": {},
   "outputs": [
    {
     "name": "stdout",
     "output_type": "stream",
     "text": [
      "{'message': 'Logged in'}\n"
     ]
    }
   ],
   "source": [
    "import requests\n",
    "\n",
    "url = \"http://192.168.1.180:8000/login\"\n",
    "\n",
    "params = {\n",
    "    \"client_id\": \"779617d6c75e425992d9aad1336fc8e4\",\n",
    "    \"client_secret\": \"a9b25d041321424b8b9ddbbb804ab80e\"\n",
    "}\n",
    "\n",
    "response = requests.post(url, params=params)\n",
    "print(response.json())\n"
   ]
  },
  {
   "cell_type": "code",
   "execution_count": 24,
   "id": "9cd06dc4-ea88-4b44-80b7-294e493e33a2",
   "metadata": {},
   "outputs": [
    {
     "data": {
      "text/plain": [
       "{'currently_playing': ['RAF (feat. A$AP Rocky, Playboi Carti, Quavo, Lil Uzi Vert & Frank Ocean)',\n",
       "  '4pdgV8qr9Oytcv6thCdiIZ',\n",
       "  'https://i.scdn.co/image/ab67616d00001e025522025c7f727c540839f7d5'],\n",
       " 'queue': [['Ransom (feat. Lil Uzi Vert)',\n",
       "   '1CaOUy0DDaVrxqzDltzLnk',\n",
       "   'https://i.scdn.co/image/ab67616d00004851c745ee438255d1eb69724419'],\n",
       "  [\"Ballin' (with Roddy Ricch)\",\n",
       "   '3QzAOrNlsabgbMwlZt7TAY',\n",
       "   'https://i.scdn.co/image/ab67616d0000485193b1e96fad758869d0974162'],\n",
       "  ['Split',\n",
       "   '3HqGDrSOZ6LbBfX5EsiaAj',\n",
       "   'https://i.scdn.co/image/ab67616d000048513f560650c583444498c214f0'],\n",
       "  ['LOT OF ME',\n",
       "   '2ZXxRC6V6AXzMdbLQZMHSB',\n",
       "   'https://i.scdn.co/image/ab67616d00004851f156ced88fa6920e86ddf11f'],\n",
       "  ['Blessing',\n",
       "   '6DswwzQlABrNoqjNydtvuX',\n",
       "   'https://i.scdn.co/image/ab67616d000048511e4accdb8178fa750df975c3'],\n",
       "  ['Mind of Melvin (feat. Lil Uzi Vert)',\n",
       "   '5xyLeb2q1lxDf7hXKYlC1H',\n",
       "   'https://i.scdn.co/image/ab67616d0000485146a15349dc3eb33627800bc7'],\n",
       "  ['Party Girl (Remix)',\n",
       "   '0XkmeG97T4mtYlWRJcrxec',\n",
       "   'https://i.scdn.co/image/ab67616d000048513601b7f0a9948f84451cdba7'],\n",
       "  ['ball w/o you',\n",
       "   '50a8bKqlwDEqeiEknrzkTO',\n",
       "   'https://i.scdn.co/image/ab67616d00004851280689ecc5e4b2038bb5e4bd'],\n",
       "  ['Break from Toronto',\n",
       "   '5fEB6ZmVkg63GZg9qO86jh',\n",
       "   'https://i.scdn.co/image/ab67616d00004851090b1f9557a6d23c0817bd88'],\n",
       "  ['Lemonade',\n",
       "   '26qQf1Wmyy3ZZkagqCu5kp',\n",
       "   'https://i.scdn.co/image/ab67616d00004851fbfeb7ded12a79fbd98f99e8'],\n",
       "  ['Shoot',\n",
       "   '54dqQJpIq0QUd2vBl5KzTJ',\n",
       "   'https://i.scdn.co/image/ab67616d0000485150bcd582d5890d747f860830'],\n",
       "  ['Boss',\n",
       "   '1rsAFUCa6BVMgRQ3FCQQsi',\n",
       "   'https://i.scdn.co/image/ab67616d00004851d52ef190ae5253eb2c3c764c'],\n",
       "  ['Blue Notes 2 (feat. Lil Uzi Vert)',\n",
       "   '2kdhiombBoiHjvSKG3EI0m',\n",
       "   'https://i.scdn.co/image/ab67616d00004851716d715fe3a1e25e1c6d1487'],\n",
       "  ['MIDDLE CHILD',\n",
       "   '4AEzAEnbm9uRgbmTdeI63K',\n",
       "   'https://i.scdn.co/image/ab67616d00004851aaed5e3d5768ee00f07003bf'],\n",
       "  ['Unforgettable',\n",
       "   '3B54sVLJ402zGa6Xm4YGNe',\n",
       "   'https://i.scdn.co/image/ab67616d000048518a31195a371b2233456f6c07'],\n",
       "  ['MONEY MAKES THE WORLD GO ROUND',\n",
       "   '3VOsRFa6udNQ2cSWamJtSr',\n",
       "   'https://i.scdn.co/image/ab67616d000048512330d2e943dd43a2faf2b176'],\n",
       "  ['Money Trees',\n",
       "   '2HbKqm4o0w5wEeEFXm2sD4',\n",
       "   'https://i.scdn.co/image/ab67616d00004851d28d2ebdedb220e479743797'],\n",
       "  ['SPACE CADET',\n",
       "   '0hRStjEfDhCLQ1F0gCefOQ',\n",
       "   'https://i.scdn.co/image/ab67616d00004851211c5b69c80b876b6276a5ca'],\n",
       "  ['Shots',\n",
       "   '6eSU1exzDvBEXmBRxspeh5',\n",
       "   'https://i.scdn.co/image/ab67616d00004851bd69bbde4aeee723d6d08058']]}"
      ]
     },
     "execution_count": 24,
     "metadata": {},
     "output_type": "execute_result"
    }
   ],
   "source": [
    "import requests\n",
    "\n",
    "url = \"http://192.168.1.180:8000/get_queue\"\n",
    "\n",
    "params = {\n",
    "    \"client_id\": \"779617d6c75e425992d9aad1336fc8e4\"\n",
    "}\n",
    "\n",
    "response = requests.post(url, params=params)\n",
    "x = response.json()\n",
    "x"
   ]
  },
  {
   "cell_type": "code",
   "execution_count": null,
   "id": "877224ea-f11f-43e9-a73f-d20668ae5091",
   "metadata": {},
   "outputs": [],
   "source": []
  },
  {
   "cell_type": "code",
   "execution_count": null,
   "id": "13b7649d-e249-408f-be2a-fb1f45b30da3",
   "metadata": {},
   "outputs": [],
   "source": []
  },
  {
   "cell_type": "code",
   "execution_count": null,
   "id": "39abda4d-4ea3-413a-8dc9-3fcbabf79043",
   "metadata": {},
   "outputs": [],
   "source": []
  }
 ],
 "metadata": {
  "kernelspec": {
   "display_name": "Python 3 (ipykernel)",
   "language": "python",
   "name": "python3"
  },
  "language_info": {
   "codemirror_mode": {
    "name": "ipython",
    "version": 3
   },
   "file_extension": ".py",
   "mimetype": "text/x-python",
   "name": "python",
   "nbconvert_exporter": "python",
   "pygments_lexer": "ipython3",
   "version": "3.10.12"
  }
 },
 "nbformat": 4,
 "nbformat_minor": 5
}
