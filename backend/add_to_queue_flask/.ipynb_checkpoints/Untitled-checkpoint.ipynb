{
 "cells": [
  {
   "cell_type": "code",
   "execution_count": null,
   "id": "3b0cb3b4-4a0d-4508-8059-772ae89addb1",
   "metadata": {},
   "outputs": [
    {
     "name": "stderr",
     "output_type": "stream",
     "text": [
      "[4541:4541:0818/040904.629309:ERROR:gpu_init.cc(440)] Passthrough is not supported, GL is egl\n",
      "Failed to query video capabilities: Inappropriate ioctl for device\n",
      "Failed to query video capabilities: Inappropriate ioctl for device\n",
      "Failed to query video capabilities: Inappropriate ioctl for device\n",
      "Failed to query video capabilities: Inappropriate ioctl for device\n",
      "\n",
      "(x-www-browser:4509): Gtk-WARNING **: 04:09:08.554: /usr/lib/chromium/libstdc++.so.6: version `GLIBCXX_3.4.29' not found (required by /usr/lib/aarch64-linux-gnu/gtk-3.0/3.0.0/immodules/im-fcitx5.so)\n",
      "\n",
      "(x-www-browser:4509): Gtk-WARNING **: 04:09:08.555: Loading IM context type 'fcitx' failed\n"
     ]
    }
   ],
   "source": [
    "import spotipy\n",
    "from spotipy.oauth2 import SpotifyOAuth\n",
    "scopes = ['playlist-modify-public', 'playlist-modify-private', 'user-read-playback-state', \\\n",
    "                  'app-remote-control', 'streaming']\n",
    "\n",
    "class UserSpotify:\n",
    "    def __init__(self, client_id, client_secret):\n",
    "        self.auth_manager = SpotifyOAuth(client_id, client_secret, \\\n",
    "                                         redirect_uri='http://localhost:8080/', scope=scopes)\n",
    "        self.sp = spotipy.Spotify(auth_manager=self.auth_manager)\n",
    "        user = self.sp.current_user()\n",
    "        self.user_id = user['id']\n",
    "\n",
    "# Initialize the UserSpotify class with your client ID and client secret\n",
    "UserOBJ = UserSpotify('93302b3440374f75bd84102271a41701', '218fdcfb4bab4abf9157c6b8be5d71f8')\n"
   ]
  },
  {
   "cell_type": "code",
   "execution_count": null,
   "id": "98b660ad-4001-45d0-a300-8594da4f3b2f",
   "metadata": {},
   "outputs": [],
   "source": []
  }
 ],
 "metadata": {
  "kernelspec": {
   "display_name": "Python 3 (ipykernel)",
   "language": "python",
   "name": "python3"
  },
  "language_info": {
   "codemirror_mode": {
    "name": "ipython",
    "version": 3
   },
   "file_extension": ".py",
   "mimetype": "text/x-python",
   "name": "python",
   "nbconvert_exporter": "python",
   "pygments_lexer": "ipython3",
   "version": "3.10.12"
  }
 },
 "nbformat": 4,
 "nbformat_minor": 5
}
