{
 "cells": [
  {
   "cell_type": "code",
   "execution_count": 1,
   "id": "2714c156-e1c5-4b4d-b7de-2baf0f4d3384",
   "metadata": {},
   "outputs": [],
   "source": [
    "import spotipy\n",
    "from spotipy.oauth2 import SpotifyOAuth\n",
    "import spotipy.exceptions as spexceptions\n",
    "import pandas as pd\n",
    "import pandas as pd\n",
    "from sklearn.model_selection import train_test_split\n",
    "from sklearn.preprocessing import StandardScaler\n",
    "from sklearn.neighbors import KNeighborsClassifier\n",
    "\n"
   ]
  },
  {
   "cell_type": "code",
   "execution_count": 2,
   "id": "3f2e79ca-301f-4790-9606-2ee328065fdd",
   "metadata": {},
   "outputs": [
    {
     "name": "stdout",
     "output_type": "stream",
     "text": [
      "What is your spotify client id?  \n",
      "What is your secret key?  \n"
     ]
    },
    {
     "ename": "SpotifyOauthError",
     "evalue": "No client_id. Pass it or set a SPOTIPY_CLIENT_ID environment variable.",
     "output_type": "error",
     "traceback": [
      "\u001b[0;31m---------------------------------------------------------------------------\u001b[0m",
      "\u001b[0;31mSpotifyOauthError\u001b[0m                         Traceback (most recent call last)",
      "Cell \u001b[0;32mIn[2], line 8\u001b[0m\n\u001b[1;32m      4\u001b[0m redirect_uri \u001b[38;5;241m=\u001b[39m \u001b[38;5;124m\"\u001b[39m\u001b[38;5;124mhttp://localhost:8080/\u001b[39m\u001b[38;5;124m\"\u001b[39m  \u001b[38;5;66;03m# This should match the redirect URI set in your Spotify app\u001b[39;00m\n\u001b[1;32m      5\u001b[0m scopes \u001b[38;5;241m=\u001b[39m [\u001b[38;5;124m'\u001b[39m\u001b[38;5;124mplaylist-modify-public\u001b[39m\u001b[38;5;124m'\u001b[39m, \u001b[38;5;124m'\u001b[39m\u001b[38;5;124mplaylist-modify-private\u001b[39m\u001b[38;5;124m'\u001b[39m, \u001b[38;5;124m'\u001b[39m\u001b[38;5;124muser-read-playback-state\u001b[39m\u001b[38;5;124m'\u001b[39m]  \u001b[38;5;66;03m# Add necessary scopes here\u001b[39;00m\n\u001b[0;32m----> 8\u001b[0m sp \u001b[38;5;241m=\u001b[39m spotipy\u001b[38;5;241m.\u001b[39mSpotify(auth_manager\u001b[38;5;241m=\u001b[39m\u001b[43mSpotifyOAuth\u001b[49m\u001b[43m(\u001b[49m\u001b[43mclient_id\u001b[49m\u001b[38;5;241;43m=\u001b[39;49m\u001b[43mclient_id\u001b[49m\u001b[43m,\u001b[49m\n\u001b[1;32m      9\u001b[0m \u001b[43m                                               \u001b[49m\u001b[43mclient_secret\u001b[49m\u001b[38;5;241;43m=\u001b[39;49m\u001b[43mclient_secret\u001b[49m\u001b[43m,\u001b[49m\n\u001b[1;32m     10\u001b[0m \u001b[43m                                               \u001b[49m\u001b[43mredirect_uri\u001b[49m\u001b[38;5;241;43m=\u001b[39;49m\u001b[43mredirect_uri\u001b[49m\u001b[43m,\u001b[49m\n\u001b[1;32m     11\u001b[0m \u001b[43m                                               \u001b[49m\u001b[43mscope\u001b[49m\u001b[38;5;241;43m=\u001b[39;49m\u001b[43mscopes\u001b[49m\u001b[43m)\u001b[49m)\n",
      "File \u001b[0;32m~/.local/lib/python3.10/site-packages/spotipy/oauth2.py:332\u001b[0m, in \u001b[0;36mSpotifyOAuth.__init__\u001b[0;34m(self, client_id, client_secret, redirect_uri, state, scope, cache_path, username, proxies, show_dialog, requests_session, requests_timeout, open_browser, cache_handler)\u001b[0m\n\u001b[1;32m    303\u001b[0m \u001b[38;5;250m\u001b[39m\u001b[38;5;124;03m\"\"\"\u001b[39;00m\n\u001b[1;32m    304\u001b[0m \u001b[38;5;124;03mCreates a SpotifyOAuth object\u001b[39;00m\n\u001b[1;32m    305\u001b[0m \n\u001b[0;32m   (...)\u001b[0m\n\u001b[1;32m    327\u001b[0m \u001b[38;5;124;03m                      (takes precedence over `cache_path` and `username`)\u001b[39;00m\n\u001b[1;32m    328\u001b[0m \u001b[38;5;124;03m\"\"\"\u001b[39;00m\n\u001b[1;32m    330\u001b[0m \u001b[38;5;28msuper\u001b[39m(SpotifyOAuth, \u001b[38;5;28mself\u001b[39m)\u001b[38;5;241m.\u001b[39m\u001b[38;5;21m__init__\u001b[39m(requests_session)\n\u001b[0;32m--> 332\u001b[0m \u001b[38;5;28;43mself\u001b[39;49m\u001b[38;5;241;43m.\u001b[39;49m\u001b[43mclient_id\u001b[49m \u001b[38;5;241m=\u001b[39m client_id\n\u001b[1;32m    333\u001b[0m \u001b[38;5;28mself\u001b[39m\u001b[38;5;241m.\u001b[39mclient_secret \u001b[38;5;241m=\u001b[39m client_secret\n\u001b[1;32m    334\u001b[0m \u001b[38;5;28mself\u001b[39m\u001b[38;5;241m.\u001b[39mredirect_uri \u001b[38;5;241m=\u001b[39m redirect_uri\n",
      "File \u001b[0;32m~/.local/lib/python3.10/site-packages/spotipy/oauth2.py:94\u001b[0m, in \u001b[0;36mSpotifyAuthBase.client_id\u001b[0;34m(self, val)\u001b[0m\n\u001b[1;32m     92\u001b[0m \u001b[38;5;129m@client_id\u001b[39m\u001b[38;5;241m.\u001b[39msetter\n\u001b[1;32m     93\u001b[0m \u001b[38;5;28;01mdef\u001b[39;00m \u001b[38;5;21mclient_id\u001b[39m(\u001b[38;5;28mself\u001b[39m, val):\n\u001b[0;32m---> 94\u001b[0m     \u001b[38;5;28mself\u001b[39m\u001b[38;5;241m.\u001b[39m_client_id \u001b[38;5;241m=\u001b[39m \u001b[43m_ensure_value\u001b[49m\u001b[43m(\u001b[49m\u001b[43mval\u001b[49m\u001b[43m,\u001b[49m\u001b[43m \u001b[49m\u001b[38;5;124;43m\"\u001b[39;49m\u001b[38;5;124;43mclient_id\u001b[39;49m\u001b[38;5;124;43m\"\u001b[39;49m\u001b[43m)\u001b[49m\n",
      "File \u001b[0;32m~/.local/lib/python3.10/site-packages/spotipy/oauth2.py:70\u001b[0m, in \u001b[0;36m_ensure_value\u001b[0;34m(value, env_key)\u001b[0m\n\u001b[1;32m     65\u001b[0m \u001b[38;5;28;01mif\u001b[39;00m _val \u001b[38;5;129;01mis\u001b[39;00m \u001b[38;5;28;01mNone\u001b[39;00m:\n\u001b[1;32m     66\u001b[0m     msg \u001b[38;5;241m=\u001b[39m \u001b[38;5;124m\"\u001b[39m\u001b[38;5;124mNo \u001b[39m\u001b[38;5;132;01m%s\u001b[39;00m\u001b[38;5;124m. Pass it or set a \u001b[39m\u001b[38;5;132;01m%s\u001b[39;00m\u001b[38;5;124m environment variable.\u001b[39m\u001b[38;5;124m\"\u001b[39m \u001b[38;5;241m%\u001b[39m (\n\u001b[1;32m     67\u001b[0m         env_key,\n\u001b[1;32m     68\u001b[0m         env_val,\n\u001b[1;32m     69\u001b[0m     )\n\u001b[0;32m---> 70\u001b[0m     \u001b[38;5;28;01mraise\u001b[39;00m SpotifyOauthError(msg)\n\u001b[1;32m     71\u001b[0m \u001b[38;5;28;01mreturn\u001b[39;00m _val\n",
      "\u001b[0;31mSpotifyOauthError\u001b[0m: No client_id. Pass it or set a SPOTIPY_CLIENT_ID environment variable."
     ]
    }
   ],
   "source": [
    "\n",
    "# Replace these with your own credentials from the Spotify Developer Dashboard\n",
    "client_id = input('What is your spotify client id? ')\n",
    "client_secret = input('What is your secret key? ') #create_own\n",
    "redirect_uri = \"http://localhost:8080/\"  # This should match the redirect URI set in your Spotify app\n",
    "scopes = ['playlist-modify-public', 'playlist-modify-private', 'user-read-playback-state']  # Add necessary scopes here\n",
    "\n",
    "\n",
    "sp = spotipy.Spotify(auth_manager=SpotifyOAuth(client_id=client_id,\n",
    "                                               client_secret=client_secret,\n",
    "                                               redirect_uri=redirect_uri,\n",
    "                                               scope=scopes))"
   ]
  },
  {
   "cell_type": "code",
   "execution_count": null,
   "id": "e93514f1-a7d8-4365-9c5a-9a710ec90155",
   "metadata": {},
   "outputs": [],
   "source": [
    "try:\n",
    "    # Example: Get the user's top tracks\n",
    "    #top_tracks = sp.current_user_top_tracks(limit=10, time_range=\"medium_term\")\n",
    "    user_playlists = sp.current_user_playlists(limit=10)\n",
    "    reccomended_tracks = sp.recommendations(seed_artists=['4O15NlyKLIASxsJ0PrXPfz'])\n",
    "    categories = sp.categories()\n",
    "    category_playlists = sp.category_playlists('0JQ5DAqbMKFQ00XGBls6ym')\n",
    "    \n",
    "except spexceptions.SpotifyException as e:\n",
    "    print(\"Error:\", e)\n",
    "\n",
    "def print_songs(data):\n",
    "    for item in data['items']:\n",
    "        name = item['name']\n",
    "        #track = sp.track(item['id'])\n",
    "        print(name)\n",
    "        # print()\n",
    "def get_recomendations(seed_artists, seed_genres, seed_tracks):\n",
    "    pass\n",
    "\n",
    "\n"
   ]
  },
  {
   "cell_type": "code",
   "execution_count": null,
   "id": "70dc5233-a6fa-4cfd-ab53-cbe644a61780",
   "metadata": {},
   "outputs": [],
   "source": [
    "# Call the function with the Spotify API response data\n",
    "#print_songs(top_tracks)\n",
    "print('-------------------------------')\n",
    "print_songs(user_playlists)\n",
    "print('-------------------------------')\n",
    "for item in reccomended_tracks['tracks']:\n",
    "    print(item['name'], ' ', item['id'])\n",
    "    \n",
    "print('-------------------------------')\n",
    "for item in categories['categories']['items']:\n",
    "    print(item['name'], ' ', item['id'])\n",
    "\n",
    "print('-------------------------------')\n",
    "for item in category_playlists['playlists']['items']:\n",
    "    if item != None:\n",
    "        print(item['name'], ' ', item['id'])"
   ]
  },
  {
   "cell_type": "code",
   "execution_count": null,
   "id": "b70e3981-83b7-4673-8c74-64ddbfc41f4d",
   "metadata": {},
<<<<<<< HEAD:spotify.ipynb
   "outputs": [],
=======
   "outputs": [
    {
     "name": "stdout",
     "output_type": "stream",
     "text": [
      "What is your UserID? (It can be found in your settings under account/Username) 312uzcwcsmjnbph47h3byr3j3arq\n",
      "What would you like to name the playlist?  Lil Uzi Songs 2\n"
     ]
    },
    {
     "name": "stdout",
     "output_type": "stream",
     "text": [
      "Playlist created successfully!\n"
     ]
    }
   ],
>>>>>>> c1a7e8a558b528398fcb573e1ff07f36866b4eb4:backend/spotify.ipynb
   "source": [
    "def add_songs(user, playlist_id, seed_artists=[], seed_genres=[], seed_tracks=[], number_of_songs_to_add=30):\n",
    "    tracks_to_add = []\n",
    "    while len(tracks_to_add) < number_of_songs_to_add:\n",
    "        recommended_tracks = sp.recommendations(seed_artists=seed_artists)\n",
    "        for item in recommended_tracks['tracks']:\n",
    "            if item['id'] not in tracks_to_add:\n",
    "                tracks_to_add.append(item['id'])\n",
    "    \n",
    "    sp.user_playlist_add_tracks(user, playlist_id, tracks_to_add)\n",
    "    \n",
    "def new_playlist(add_songs_flag=False):\n",
    "    userID = input('What is your UserID? (It can be found in your settings under account/Username)')\n",
    "    user_playlists = sp.current_user_playlists()\n",
    "    user_playlists = [item['name'] for item in user_playlists['items']]\n",
    "    while True:\n",
    "        name = input('What would you like to name the playlist? ')\n",
    "        if name not in user_playlists:\n",
    "            break\n",
    "        else:\n",
    "            print(\"A playlist with that name already exists. Please choose a different name.\")\n",
    "    try:\n",
    "        playlist = sp.user_playlist_create(userID, name, description='I made this playlist with python')\n",
    "        playlist_id = playlist['id']\n",
    "        if add_songs_flag:\n",
    "            add_songs(userID, playlist_id, seed_artists=['4O15NlyKLIASxsJ0PrXPfz'])\n",
    "        print('Playlist created successfully!')\n",
    "    except Exception as e:\n",
    "        print('Error Encountered: ', e)\n",
    "\n",
    "new_playlist(add_songs_flag=True)\n"
   ]
  },
  {
   "cell_type": "code",
<<<<<<< HEAD:spotify.ipynb
   "execution_count": null,
=======
<<<<<<< HEAD:backend/spotify.ipynb
   "execution_count": 7,
=======
   "execution_count": 32,
>>>>>>> c1a7e8a558b528398fcb573e1ff07f36866b4eb4:backend/spotify.ipynb
   "id": "bddc3382-df6d-474a-8630-7d0cbbc62466",
   "metadata": {},
   "outputs": [],
   "source": [
    "def get_queue():\n",
    "    queue = sp.queue()\n",
    "    if queue != {'currently_playing': None, 'queue': []}:\n",
    "        #print(queue['currently_playing']['name'])\n",
    "        print('Currently Playing: ', queue['currently_playing']['name']) \n",
    "        print('QUEUE:')\n",
    "        for item in queue[\"queue\"]:\n",
    "            print(item['name'], item['id'])\n",
    "    else:\n",
    "        print('User Not Playing Music')\n",
    "get_queue()"
   ]
  },
  {
   "cell_type": "code",
<<<<<<< HEAD:spotify.ipynb
   "execution_count": null,
=======
   "execution_count": 6,
>>>>>>> main:spotify.ipynb
>>>>>>> c1a7e8a558b528398fcb573e1ff07f36866b4eb4:backend/spotify.ipynb
   "id": "6722a96b-a643-4ba9-a1d2-19d81c385b9b",
   "metadata": {},
   "outputs": [
    {
     "ename": "NameError",
     "evalue": "name 'sp' is not defined",
     "output_type": "error",
     "traceback": [
      "\u001b[1;31m---------------------------------------------------------------------------\u001b[0m",
      "\u001b[1;31mNameError\u001b[0m                                 Traceback (most recent call last)",
      "Cell \u001b[1;32mIn[7], line 25\u001b[0m\n\u001b[0;32m     21\u001b[0m     \u001b[39mreturn\u001b[39;00m audio_features\n\u001b[0;32m     23\u001b[0m \u001b[39mif\u001b[39;00m \u001b[39m__name__\u001b[39m \u001b[39m==\u001b[39m \u001b[39m'\u001b[39m\u001b[39m__main__\u001b[39m\u001b[39m'\u001b[39m:\n\u001b[0;32m     24\u001b[0m     \u001b[39m# Get the tracks from RapCaviar playlist\u001b[39;00m\n\u001b[1;32m---> 25\u001b[0m     rap_caviar_tracks \u001b[39m=\u001b[39m get_rap_caviar_tracks()\n\u001b[0;32m     27\u001b[0m     \u001b[39m# Extract track IDs and titles from the playlist\u001b[39;00m\n\u001b[0;32m     28\u001b[0m     track_ids \u001b[39m=\u001b[39m [track[\u001b[39m'\u001b[39m\u001b[39mtrack\u001b[39m\u001b[39m'\u001b[39m][\u001b[39m'\u001b[39m\u001b[39mid\u001b[39m\u001b[39m'\u001b[39m] \u001b[39mfor\u001b[39;00m track \u001b[39min\u001b[39;00m rap_caviar_tracks]\n",
      "Cell \u001b[1;32mIn[7], line 6\u001b[0m, in \u001b[0;36mget_rap_caviar_tracks\u001b[1;34m()\u001b[0m\n\u001b[0;32m      3\u001b[0m playlist_id \u001b[39m=\u001b[39m \u001b[39m'\u001b[39m\u001b[39m37i9dQZF1DX0XUsuxWHRQd\u001b[39m\u001b[39m'\u001b[39m\n\u001b[0;32m      5\u001b[0m tracks \u001b[39m=\u001b[39m []\n\u001b[1;32m----> 6\u001b[0m results \u001b[39m=\u001b[39m sp\u001b[39m.\u001b[39mplaylist_tracks(playlist_id)\n\u001b[0;32m      7\u001b[0m tracks\u001b[39m.\u001b[39mextend(results[\u001b[39m'\u001b[39m\u001b[39mitems\u001b[39m\u001b[39m'\u001b[39m])\n\u001b[0;32m      9\u001b[0m \u001b[39mwhile\u001b[39;00m results[\u001b[39m'\u001b[39m\u001b[39mnext\u001b[39m\u001b[39m'\u001b[39m]:\n",
      "\u001b[1;31mNameError\u001b[0m: name 'sp' is not defined"
     ]
    }
   ],
   "source": [
    "def get_rap_caviar_tracks():\n",
    "    # Replace 'RAPCAVIAR_PLAYLIST_ID' with the actual playlist ID for RapCaviar\n",
    "    playlist_id = '37i9dQZF1DX0XUsuxWHRQd'\n",
    "    \n",
    "    tracks = []\n",
    "    results = sp.playlist_tracks(playlist_id)\n",
    "    tracks.extend(results['items'])\n",
    "    \n",
    "    while results['next']:\n",
    "        results = sp.next(results)\n",
    "        tracks.extend(results['items'])\n",
    "    \n",
    "    return tracks\n",
    "\n",
    "def get_audio_features(track_ids):\n",
    "    audio_features = []\n",
    "    for i in range(0, len(track_ids), 50):  # Spotify API allows fetching 50 tracks at a time\n",
    "        batch_ids = track_ids[i:i+50]\n",
    "        features = sp.audio_features(batch_ids)\n",
    "        audio_features.extend(features)\n",
    "    return audio_features\n",
    "\n",
    "if __name__ == '__main__':\n",
    "    # Get the tracks from RapCaviar playlist\n",
    "    rap_caviar_tracks = get_rap_caviar_tracks()\n",
    "    \n",
    "    # Extract track IDs and titles from the playlist\n",
    "    track_ids = [track['track']['id'] for track in rap_caviar_tracks]\n",
    "    #print(sp.track(rap_caviar_tracks[0]['track']['id']))\n",
    "    track_genre = ['rap' for track in rap_caviar_tracks]\n",
    "    \n",
    "    # Get the audio features for each track\n",
    "    audio_features = get_audio_features(track_ids)\n",
    "    \n",
    "    # Combine track titles with audio features in a dictionary\n",
    "    track_data = [{'title': title, **audio} for title, audio in zip(track_genre, audio_features)]\n",
    "    \n",
    "    # Convert the list of dictionaries to a pandas DataFrame\n",
    "    df = pd.DataFrame(track_data)\n",
    "    \n",
    "    # Save the DataFrame to a CSV file or perform further analysis on the data\n",
    "    df.to_csv('rap_caviar_audio_features.csv', index=False)"
   ]
  },
  {
   "cell_type": "code",
<<<<<<< HEAD:spotify.ipynb
   "execution_count": null,
   "id": "213e1769-f404-44f7-81a6-df67cd32473e",
   "metadata": {},
   "outputs": [],
=======
   "execution_count": 10,
   "id": "213e1769-f404-44f7-81a6-df67cd32473e",
   "metadata": {},
   "outputs": [
    {
     "ename": "ValueError",
     "evalue": "This solver needs samples of at least 2 classes in the data, but the data contains only one class: 'rap'",
     "output_type": "error",
     "traceback": [
      "\u001b[1;31m---------------------------------------------------------------------------\u001b[0m",
      "\u001b[1;31mValueError\u001b[0m                                Traceback (most recent call last)",
      "Cell \u001b[1;32mIn[10], line 26\u001b[0m\n\u001b[0;32m     23\u001b[0m logreg_model \u001b[39m=\u001b[39m LogisticRegression(max_iter\u001b[39m=\u001b[39m\u001b[39m1000\u001b[39m)\n\u001b[0;32m     25\u001b[0m \u001b[39m# Fit the Logistic Regression model on the training data\u001b[39;00m\n\u001b[1;32m---> 26\u001b[0m logreg_model\u001b[39m.\u001b[39;49mfit(X_train, y_train)\n\u001b[0;32m     28\u001b[0m \u001b[39m# Make predictions on the test set\u001b[39;00m\n\u001b[0;32m     29\u001b[0m y_pred \u001b[39m=\u001b[39m logreg_model\u001b[39m.\u001b[39mpredict(X_test)\n",
      "File \u001b[1;32mc:\\Users\\jackj\\Desktop\\Projects\\Spotify_web_app\\.venv\\Lib\\site-packages\\sklearn\\base.py:1151\u001b[0m, in \u001b[0;36m_fit_context.<locals>.decorator.<locals>.wrapper\u001b[1;34m(estimator, *args, **kwargs)\u001b[0m\n\u001b[0;32m   1144\u001b[0m     estimator\u001b[39m.\u001b[39m_validate_params()\n\u001b[0;32m   1146\u001b[0m \u001b[39mwith\u001b[39;00m config_context(\n\u001b[0;32m   1147\u001b[0m     skip_parameter_validation\u001b[39m=\u001b[39m(\n\u001b[0;32m   1148\u001b[0m         prefer_skip_nested_validation \u001b[39mor\u001b[39;00m global_skip_validation\n\u001b[0;32m   1149\u001b[0m     )\n\u001b[0;32m   1150\u001b[0m ):\n\u001b[1;32m-> 1151\u001b[0m     \u001b[39mreturn\u001b[39;00m fit_method(estimator, \u001b[39m*\u001b[39;49margs, \u001b[39m*\u001b[39;49m\u001b[39m*\u001b[39;49mkwargs)\n",
      "File \u001b[1;32mc:\\Users\\jackj\\Desktop\\Projects\\Spotify_web_app\\.venv\\Lib\\site-packages\\sklearn\\linear_model\\_logistic.py:1252\u001b[0m, in \u001b[0;36mLogisticRegression.fit\u001b[1;34m(self, X, y, sample_weight)\u001b[0m\n\u001b[0;32m   1250\u001b[0m classes_ \u001b[39m=\u001b[39m \u001b[39mself\u001b[39m\u001b[39m.\u001b[39mclasses_\n\u001b[0;32m   1251\u001b[0m \u001b[39mif\u001b[39;00m n_classes \u001b[39m<\u001b[39m \u001b[39m2\u001b[39m:\n\u001b[1;32m-> 1252\u001b[0m     \u001b[39mraise\u001b[39;00m \u001b[39mValueError\u001b[39;00m(\n\u001b[0;32m   1253\u001b[0m         \u001b[39m\"\u001b[39m\u001b[39mThis solver needs samples of at least 2 classes\u001b[39m\u001b[39m\"\u001b[39m\n\u001b[0;32m   1254\u001b[0m         \u001b[39m\"\u001b[39m\u001b[39m in the data, but the data contains only one\u001b[39m\u001b[39m\"\u001b[39m\n\u001b[0;32m   1255\u001b[0m         \u001b[39m\"\u001b[39m\u001b[39m class: \u001b[39m\u001b[39m%r\u001b[39;00m\u001b[39m\"\u001b[39m\n\u001b[0;32m   1256\u001b[0m         \u001b[39m%\u001b[39m classes_[\u001b[39m0\u001b[39m]\n\u001b[0;32m   1257\u001b[0m     )\n\u001b[0;32m   1259\u001b[0m \u001b[39mif\u001b[39;00m \u001b[39mlen\u001b[39m(\u001b[39mself\u001b[39m\u001b[39m.\u001b[39mclasses_) \u001b[39m==\u001b[39m \u001b[39m2\u001b[39m:\n\u001b[0;32m   1260\u001b[0m     n_classes \u001b[39m=\u001b[39m \u001b[39m1\u001b[39m\n",
      "\u001b[1;31mValueError\u001b[0m: This solver needs samples of at least 2 classes in the data, but the data contains only one class: 'rap'"
     ]
    }
   ],
>>>>>>> c1a7e8a558b528398fcb573e1ff07f36866b4eb4:backend/spotify.ipynb
   "source": [
    "import pandas as pd\n",
    "from sklearn.model_selection import train_test_split\n",
    "from sklearn.preprocessing import StandardScaler\n",
    "from sklearn.linear_model import LogisticRegression\n",
    "from sklearn.metrics import accuracy_score, classification_report\n",
    "\n",
    "# Load the preprocessed DataFrame with audio features (from the previous script)\n",
    "df = pd.read_csv('rap_caviar_audio_features.csv')\n",
    "\n",
    "# Preprocess the data\n",
    "xcols = ['danceability', 'energy', 'loudness', 'speechiness', 'acousticness', 'instrumentalness', 'liveness', 'valence', 'duration_ms']\n",
    "X = df[xcols].values\n",
    "scaler = StandardScaler()\n",
    "X_scaled = scaler.fit_transform(X)\n",
    "\n",
    "# Define the target variable (genre or class labels)\n",
    "y = df['title'].values  # Replace 'genre' with the appropriate column name for genre information\n",
    "\n",
    "# Split the data into training and testing sets\n",
    "X_train, X_test, y_train, y_test = train_test_split(X_scaled, y, test_size=0.2, random_state=42)\n",
    "\n",
    "# Initialize the Logistic Regression model\n",
    "logreg_model = LogisticRegression(max_iter=1000)\n",
    "\n",
    "# Fit the Logistic Regression model on the training data\n",
    "logreg_model.fit(X_train, y_train)\n",
    "\n",
    "# Make predictions on the test set\n",
    "y_pred = logreg_model.predict(X_test)\n",
    "\n",
    "# Evaluate the model\n",
    "accuracy = accuracy_score(y_test, y_pred)\n",
    "print(f\"Accuracy on test set: {accuracy:.2f}\")\n",
    "\n",
    "# Additional evaluation metrics and classification report\n",
    "print(classification_report(y_test, y_pred))\n"
   ]
  },
  {
   "cell_type": "code",
   "execution_count": null,
   "id": "d7799cf0-313c-47dc-bf2c-5198c6de675f",
   "metadata": {},
   "outputs": [],
   "source": []
  },
  {
   "cell_type": "code",
   "execution_count": null,
   "id": "ce0168e5-dfec-42d9-8c47-8bcd4cda3082",
   "metadata": {},
   "outputs": [],
   "source": []
  }
 ],
 "metadata": {
  "kernelspec": {
   "display_name": "Python 3 (ipykernel)",
   "language": "python",
   "name": "python3"
  },
  "language_info": {
   "codemirror_mode": {
    "name": "ipython",
    "version": 3
   },
   "file_extension": ".py",
   "mimetype": "text/x-python",
   "name": "python",
   "nbconvert_exporter": "python",
   "pygments_lexer": "ipython3",
   "version": "3.10.12"
  }
 },
 "nbformat": 4,
 "nbformat_minor": 5
}
