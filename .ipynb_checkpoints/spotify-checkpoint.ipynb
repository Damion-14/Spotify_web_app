{
 "cells": [
  {
   "cell_type": "code",
   "execution_count": 1,
   "id": "3f2e79ca-301f-4790-9606-2ee328065fdd",
   "metadata": {},
   "outputs": [
    {
     "name": "stdin",
     "output_type": "stream",
     "text": [
      "What is your spotify client id?  779617d6c75e425992d9aad1336fc8e4\n",
      "What is your secret key?  a9b25d041321424b8b9ddbbb804ab80e\n"
     ]
    }
   ],
   "source": [
    "import spotipy\n",
    "from spotipy.oauth2 import SpotifyOAuth\n",
    "import spotipy.exceptions as spexceptions\n",
    "\n",
    "# Replace these with your own credentials from the Spotify Developer Dashboard\n",
    "client_id = input('What is your spotify client id? ')\n",
    "client_secret = input('What is your secret key? ') #create_own\n",
    "redirect_uri = \"http://localhost:8080/\"  # This should match the redirect URI set in your Spotify app\n",
    "scopes = ['playlist-modify-public', 'playlist-modify-private']  # Add necessary scopes here\n",
    "\n",
    "\n",
    "sp = spotipy.Spotify(auth_manager=SpotifyOAuth(client_id=client_id,\n",
    "                                               client_secret=client_secret,\n",
    "                                               redirect_uri=redirect_uri,\n",
    "                                               scope=scopes))"
   ]
  },
  {
   "cell_type": "code",
   "execution_count": null,
   "id": "e93514f1-a7d8-4365-9c5a-9a710ec90155",
   "metadata": {},
   "outputs": [],
   "source": [
    "try:\n",
    "    # Example: Get the user's top tracks\n",
    "    #top_tracks = sp.current_user_top_tracks(limit=10, time_range=\"medium_term\")\n",
    "    #user_playlists = sp.current_user_playlists(limit=10)\n",
    "    #reccomended_tracks = sp.recommendations(seed_artists=['4O15NlyKLIASxsJ0PrXPfz'])\n",
    "    categories = sp.categories()\n",
    "    #category_playlists = sp.category_playlists('0JQ5DAqbMKFQ00XGBls6ym')\n",
    "    \n",
    "except spexceptions.SpotifyException as e:\n",
    "    print(\"Error:\", e)\n",
    "\n",
    "def print_songs(data):\n",
    "    for item in data['items']:\n",
    "        name = item['name']\n",
    "        #track = sp.track(item['id'])\n",
    "        print(name)\n",
    "        # print()\n",
    "def get_recomendations(seed_artists, seed_genres, seed_trakcs):\n",
    "    pass\n",
    "\n",
    "\n"
   ]
  },
  {
   "cell_type": "code",
   "execution_count": null,
   "id": "70dc5233-a6fa-4cfd-ab53-cbe644a61780",
   "metadata": {},
   "outputs": [],
   "source": [
    "# Call the function with the Spotify API response data\n",
    "print_songs(top_tracks)\n",
    "print('-------------------------------')\n",
    "print_songs(user_playlists)\n",
    "print('-------------------------------')\n",
    "for item in reccomended_tracks['tracks']:\n",
    "    print(item['name'], ' ', item['id'])\n",
    "    \n",
    "print('-------------------------------')\n",
    "for item in categories['categories']['items']:\n",
    "    print(item['name'], ' ', item['id'])\n",
    "\n",
    "print('-------------------------------')\n",
    "for item in category_playlists['playlists']['items']:\n",
    "    if item != None:\n",
    "        print(item['name'], ' ', item['id'])"
   ]
  },
  {
   "cell_type": "code",
   "execution_count": 56,
   "id": "b70e3981-83b7-4673-8c74-64ddbfc41f4d",
   "metadata": {},
   "outputs": [
    {
     "name": "stderr",
     "output_type": "stream",
     "text": [
      "HTTP Error for POST to https://api.spotify.com/v1/users/779617d6c75e425992d9aad1336fc8e4/playlists with Params: {} returned 403 due to Insufficient client scope\n"
     ]
    },
    {
     "ename": "SpotifyException",
     "evalue": "http status: 403, code:-1 - https://api.spotify.com/v1/users/779617d6c75e425992d9aad1336fc8e4/playlists:\n Insufficient client scope, reason: None",
     "output_type": "error",
     "traceback": [
      "\u001b[0;31m---------------------------------------------------------------------------\u001b[0m",
      "\u001b[0;31mHTTPError\u001b[0m                                 Traceback (most recent call last)",
      "File \u001b[0;32m~/.local/lib/python3.10/site-packages/spotipy/client.py:271\u001b[0m, in \u001b[0;36mSpotify._internal_call\u001b[0;34m(self, method, url, payload, params)\u001b[0m\n\u001b[1;32m    266\u001b[0m response \u001b[38;5;241m=\u001b[39m \u001b[38;5;28mself\u001b[39m\u001b[38;5;241m.\u001b[39m_session\u001b[38;5;241m.\u001b[39mrequest(\n\u001b[1;32m    267\u001b[0m     method, url, headers\u001b[38;5;241m=\u001b[39mheaders, proxies\u001b[38;5;241m=\u001b[39m\u001b[38;5;28mself\u001b[39m\u001b[38;5;241m.\u001b[39mproxies,\n\u001b[1;32m    268\u001b[0m     timeout\u001b[38;5;241m=\u001b[39m\u001b[38;5;28mself\u001b[39m\u001b[38;5;241m.\u001b[39mrequests_timeout, \u001b[38;5;241m*\u001b[39m\u001b[38;5;241m*\u001b[39margs\n\u001b[1;32m    269\u001b[0m )\n\u001b[0;32m--> 271\u001b[0m \u001b[43mresponse\u001b[49m\u001b[38;5;241;43m.\u001b[39;49m\u001b[43mraise_for_status\u001b[49m\u001b[43m(\u001b[49m\u001b[43m)\u001b[49m\n\u001b[1;32m    272\u001b[0m results \u001b[38;5;241m=\u001b[39m response\u001b[38;5;241m.\u001b[39mjson()\n",
      "File \u001b[0;32m~/.local/lib/python3.10/site-packages/requests/models.py:1021\u001b[0m, in \u001b[0;36mResponse.raise_for_status\u001b[0;34m(self)\u001b[0m\n\u001b[1;32m   1020\u001b[0m \u001b[38;5;28;01mif\u001b[39;00m http_error_msg:\n\u001b[0;32m-> 1021\u001b[0m     \u001b[38;5;28;01mraise\u001b[39;00m HTTPError(http_error_msg, response\u001b[38;5;241m=\u001b[39m\u001b[38;5;28mself\u001b[39m)\n",
      "\u001b[0;31mHTTPError\u001b[0m: 403 Client Error: Forbidden for url: https://api.spotify.com/v1/users/779617d6c75e425992d9aad1336fc8e4/playlists",
      "\nDuring handling of the above exception, another exception occurred:\n",
      "\u001b[0;31mSpotifyException\u001b[0m                          Traceback (most recent call last)",
      "Cell \u001b[0;32mIn[56], line 1\u001b[0m\n\u001b[0;32m----> 1\u001b[0m new_playlist \u001b[38;5;241m=\u001b[39m \u001b[43msp\u001b[49m\u001b[38;5;241;43m.\u001b[39;49m\u001b[43muser_playlist_create\u001b[49m\u001b[43m(\u001b[49m\u001b[43mclient_id\u001b[49m\u001b[43m,\u001b[49m\u001b[43m \u001b[49m\u001b[38;5;124;43m'\u001b[39;49m\u001b[38;5;124;43mPython-Playlist\u001b[39;49m\u001b[38;5;124;43m'\u001b[39;49m\u001b[43m,\u001b[49m\u001b[43m \u001b[49m\u001b[43mdescription\u001b[49m\u001b[38;5;241;43m=\u001b[39;49m\u001b[38;5;124;43m'\u001b[39;49m\u001b[38;5;124;43mI made this playlist with python\u001b[39;49m\u001b[38;5;124;43m'\u001b[39;49m\u001b[43m)\u001b[49m\n\u001b[1;32m      3\u001b[0m new_playlist\n",
      "File \u001b[0;32m~/.local/lib/python3.10/site-packages/spotipy/client.py:818\u001b[0m, in \u001b[0;36mSpotify.user_playlist_create\u001b[0;34m(self, user, name, public, collaborative, description)\u001b[0m\n\u001b[1;32m    802\u001b[0m \u001b[38;5;250m\u001b[39m\u001b[38;5;124;03m\"\"\" Creates a playlist for a user\u001b[39;00m\n\u001b[1;32m    803\u001b[0m \n\u001b[1;32m    804\u001b[0m \u001b[38;5;124;03m    Parameters:\u001b[39;00m\n\u001b[0;32m   (...)\u001b[0m\n\u001b[1;32m    809\u001b[0m \u001b[38;5;124;03m        - description - the description of the playlist\u001b[39;00m\n\u001b[1;32m    810\u001b[0m \u001b[38;5;124;03m\"\"\"\u001b[39;00m\n\u001b[1;32m    811\u001b[0m data \u001b[38;5;241m=\u001b[39m {\n\u001b[1;32m    812\u001b[0m     \u001b[38;5;124m\"\u001b[39m\u001b[38;5;124mname\u001b[39m\u001b[38;5;124m\"\u001b[39m: name,\n\u001b[1;32m    813\u001b[0m     \u001b[38;5;124m\"\u001b[39m\u001b[38;5;124mpublic\u001b[39m\u001b[38;5;124m\"\u001b[39m: public,\n\u001b[1;32m    814\u001b[0m     \u001b[38;5;124m\"\u001b[39m\u001b[38;5;124mcollaborative\u001b[39m\u001b[38;5;124m\"\u001b[39m: collaborative,\n\u001b[1;32m    815\u001b[0m     \u001b[38;5;124m\"\u001b[39m\u001b[38;5;124mdescription\u001b[39m\u001b[38;5;124m\"\u001b[39m: description\n\u001b[1;32m    816\u001b[0m }\n\u001b[0;32m--> 818\u001b[0m \u001b[38;5;28;01mreturn\u001b[39;00m \u001b[38;5;28;43mself\u001b[39;49m\u001b[38;5;241;43m.\u001b[39;49m\u001b[43m_post\u001b[49m\u001b[43m(\u001b[49m\u001b[38;5;124;43m\"\u001b[39;49m\u001b[38;5;124;43musers/\u001b[39;49m\u001b[38;5;132;43;01m%s\u001b[39;49;00m\u001b[38;5;124;43m/playlists\u001b[39;49m\u001b[38;5;124;43m\"\u001b[39;49m\u001b[43m \u001b[49m\u001b[38;5;241;43m%\u001b[39;49m\u001b[43m \u001b[49m\u001b[43m(\u001b[49m\u001b[43muser\u001b[49m\u001b[43m,\u001b[49m\u001b[43m)\u001b[49m\u001b[43m,\u001b[49m\u001b[43m \u001b[49m\u001b[43mpayload\u001b[49m\u001b[38;5;241;43m=\u001b[39;49m\u001b[43mdata\u001b[49m\u001b[43m)\u001b[49m\n",
      "File \u001b[0;32m~/.local/lib/python3.10/site-packages/spotipy/client.py:328\u001b[0m, in \u001b[0;36mSpotify._post\u001b[0;34m(self, url, args, payload, **kwargs)\u001b[0m\n\u001b[1;32m    326\u001b[0m \u001b[38;5;28;01mif\u001b[39;00m args:\n\u001b[1;32m    327\u001b[0m     kwargs\u001b[38;5;241m.\u001b[39mupdate(args)\n\u001b[0;32m--> 328\u001b[0m \u001b[38;5;28;01mreturn\u001b[39;00m \u001b[38;5;28;43mself\u001b[39;49m\u001b[38;5;241;43m.\u001b[39;49m\u001b[43m_internal_call\u001b[49m\u001b[43m(\u001b[49m\u001b[38;5;124;43m\"\u001b[39;49m\u001b[38;5;124;43mPOST\u001b[39;49m\u001b[38;5;124;43m\"\u001b[39;49m\u001b[43m,\u001b[49m\u001b[43m \u001b[49m\u001b[43murl\u001b[49m\u001b[43m,\u001b[49m\u001b[43m \u001b[49m\u001b[43mpayload\u001b[49m\u001b[43m,\u001b[49m\u001b[43m \u001b[49m\u001b[43mkwargs\u001b[49m\u001b[43m)\u001b[49m\n",
      "File \u001b[0;32m~/.local/lib/python3.10/site-packages/spotipy/client.py:293\u001b[0m, in \u001b[0;36mSpotify._internal_call\u001b[0;34m(self, method, url, payload, params)\u001b[0m\n\u001b[1;32m    286\u001b[0m         reason \u001b[38;5;241m=\u001b[39m \u001b[38;5;28;01mNone\u001b[39;00m\n\u001b[1;32m    288\u001b[0m     logger\u001b[38;5;241m.\u001b[39merror(\n\u001b[1;32m    289\u001b[0m         \u001b[38;5;124m'\u001b[39m\u001b[38;5;124mHTTP Error for \u001b[39m\u001b[38;5;132;01m%s\u001b[39;00m\u001b[38;5;124m to \u001b[39m\u001b[38;5;132;01m%s\u001b[39;00m\u001b[38;5;124m with Params: \u001b[39m\u001b[38;5;132;01m%s\u001b[39;00m\u001b[38;5;124m returned \u001b[39m\u001b[38;5;132;01m%s\u001b[39;00m\u001b[38;5;124m due to \u001b[39m\u001b[38;5;132;01m%s\u001b[39;00m\u001b[38;5;124m'\u001b[39m,\n\u001b[1;32m    290\u001b[0m         method, url, args\u001b[38;5;241m.\u001b[39mget(\u001b[38;5;124m\"\u001b[39m\u001b[38;5;124mparams\u001b[39m\u001b[38;5;124m\"\u001b[39m), response\u001b[38;5;241m.\u001b[39mstatus_code, msg\n\u001b[1;32m    291\u001b[0m     )\n\u001b[0;32m--> 293\u001b[0m     \u001b[38;5;28;01mraise\u001b[39;00m SpotifyException(\n\u001b[1;32m    294\u001b[0m         response\u001b[38;5;241m.\u001b[39mstatus_code,\n\u001b[1;32m    295\u001b[0m         \u001b[38;5;241m-\u001b[39m\u001b[38;5;241m1\u001b[39m,\n\u001b[1;32m    296\u001b[0m         \u001b[38;5;124m\"\u001b[39m\u001b[38;5;132;01m%s\u001b[39;00m\u001b[38;5;124m:\u001b[39m\u001b[38;5;130;01m\\n\u001b[39;00m\u001b[38;5;124m \u001b[39m\u001b[38;5;132;01m%s\u001b[39;00m\u001b[38;5;124m\"\u001b[39m \u001b[38;5;241m%\u001b[39m (response\u001b[38;5;241m.\u001b[39murl, msg),\n\u001b[1;32m    297\u001b[0m         reason\u001b[38;5;241m=\u001b[39mreason,\n\u001b[1;32m    298\u001b[0m         headers\u001b[38;5;241m=\u001b[39mresponse\u001b[38;5;241m.\u001b[39mheaders,\n\u001b[1;32m    299\u001b[0m     )\n\u001b[1;32m    300\u001b[0m \u001b[38;5;28;01mexcept\u001b[39;00m requests\u001b[38;5;241m.\u001b[39mexceptions\u001b[38;5;241m.\u001b[39mRetryError \u001b[38;5;28;01mas\u001b[39;00m retry_error:\n\u001b[1;32m    301\u001b[0m     request \u001b[38;5;241m=\u001b[39m retry_error\u001b[38;5;241m.\u001b[39mrequest\n",
      "\u001b[0;31mSpotifyException\u001b[0m: http status: 403, code:-1 - https://api.spotify.com/v1/users/779617d6c75e425992d9aad1336fc8e4/playlists:\n Insufficient client scope, reason: None"
     ]
    }
   ],
   "source": [
    "new_playlist = sp.user_playlistaylist_create(client_id, 'Python-Playlist', description='I made this playlist with python')\n",
    "\n",
    "new_playlist"
   ]
  },
  {
   "cell_type": "code",
   "execution_count": null,
   "id": "c6989a82-3f35-4c6a-9ba0-063cfcd768d4",
   "metadata": {},
   "outputs": [],
   "source": []
  }
 ],
 "metadata": {
  "kernelspec": {
   "display_name": "Python 3 (ipykernel)",
   "language": "python",
   "name": "python3"
  },
  "language_info": {
   "codemirror_mode": {
    "name": "ipython",
    "version": 3
   },
   "file_extension": ".py",
   "mimetype": "text/x-python",
   "name": "python",
   "nbconvert_exporter": "python",
   "pygments_lexer": "ipython3",
   "version": "3.10.12"
  }
 },
 "nbformat": 4,
 "nbformat_minor": 5
}
